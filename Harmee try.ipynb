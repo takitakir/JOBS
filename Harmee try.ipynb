{
  "nbformat": 4,
  "nbformat_minor": 0,
  "metadata": {
    "colab": {
      "provenance": [],
      "authorship_tag": "ABX9TyMdbo9jVwhjcGUgwHmtcTbu",
      "include_colab_link": true
    },
    "kernelspec": {
      "name": "python3",
      "display_name": "Python 3"
    },
    "language_info": {
      "name": "python"
    }
  },
  "cells": [
    {
      "cell_type": "markdown",
      "metadata": {
        "id": "view-in-github",
        "colab_type": "text"
      },
      "source": [
        "<a href=\"https://colab.research.google.com/github/takitakir/JOBS/blob/main/Harmee%20try.ipynb\" target=\"_parent\"><img src=\"https://colab.research.google.com/assets/colab-badge.svg\" alt=\"Open In Colab\"/></a>"
      ]
    },
    {
      "cell_type": "code",
      "source": [
        "import requests\n",
        "from bs4 import BeautifulSoup"
      ],
      "metadata": {
        "id": "nuieGgpepEu2"
      },
      "execution_count": 1,
      "outputs": []
    },
    {
      "cell_type": "code",
      "source": [
        "site_map = \"https://harmeejobs.com/\""
      ],
      "metadata": {
        "id": "oNPpC48upov1"
      },
      "execution_count": 2,
      "outputs": []
    },
    {
      "cell_type": "code",
      "source": [
        "response = requests.get(site_map)"
      ],
      "metadata": {
        "id": "82ghCMUGpoy_"
      },
      "execution_count": 3,
      "outputs": []
    },
    {
      "cell_type": "code",
      "source": [
        "response"
      ],
      "metadata": {
        "colab": {
          "base_uri": "https://localhost:8080/"
        },
        "id": "gg6SqeIkpo19",
        "outputId": "d142b88c-c1ff-4ea3-a806-a185b21f4217"
      },
      "execution_count": 4,
      "outputs": [
        {
          "output_type": "execute_result",
          "data": {
            "text/plain": [
              "<Response [200]>"
            ]
          },
          "metadata": {},
          "execution_count": 4
        }
      ]
    },
    {
      "cell_type": "code",
      "source": [
        "response = requests.get(site_map)\n"
      ],
      "metadata": {
        "id": "Vv0U7TyVpo5R"
      },
      "execution_count": 6,
      "outputs": []
    },
    {
      "cell_type": "code",
      "source": [
        "html = response.text"
      ],
      "metadata": {
        "id": "ftqlDS-5qikt"
      },
      "execution_count": 7,
      "outputs": []
    },
    {
      "cell_type": "code",
      "source": [
        "soup = BeautifulSoup(html, 'html.parser')"
      ],
      "metadata": {
        "id": "vjuzOrypqioW"
      },
      "execution_count": 8,
      "outputs": []
    },
    {
      "cell_type": "code",
      "source": [
        "for li in soup.find_all(\"a\"):\n",
        "  url = li.get(\"href\")\n",
        "  if url and \"/job/\" in url:\n",
        "   print(url)#pagination add\n"
      ],
      "metadata": {
        "colab": {
          "base_uri": "https://localhost:8080/"
        },
        "id": "pasynlDcrCSV",
        "outputId": "ba18a213-7228-45f5-e5b8-18fb279d0f8d"
      },
      "execution_count": 11,
      "outputs": [
        {
          "output_type": "stream",
          "name": "stdout",
          "text": [
            "https://harmeejobs.com/job/it-field-engineer/\n",
            "https://harmeejobs.com/job/grant-compliance-manager/\n",
            "https://harmeejobs.com/job/project-officer-mhpss/\n",
            "https://harmeejobs.com/job/masson/\n",
            "https://harmeejobs.com/job/branch-accountant-7/\n",
            "https://harmeejobs.com/job/branch-accountant-7/\n",
            "https://harmeejobs.com/job/senior-database-and-integration-officer/\n",
            "https://harmeejobs.com/job/senior-database-and-integration-officer/\n",
            "https://harmeejobs.com/job/hr-business-partner-4/\n",
            "https://harmeejobs.com/job/hr-business-partner-4/\n"
          ]
        }
      ]
    },
    {
      "cell_type": "code",
      "source": [],
      "metadata": {
        "id": "X1_ilEO0rCby"
      },
      "execution_count": null,
      "outputs": []
    },
    {
      "cell_type": "code",
      "source": [],
      "metadata": {
        "id": "iNnFz13RpFBN"
      },
      "execution_count": null,
      "outputs": []
    }
  ]
}