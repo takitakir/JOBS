{
  "nbformat": 4,
  "nbformat_minor": 0,
  "metadata": {
    "colab": {
      "provenance": [],
      "authorship_tag": "ABX9TyMJaPrHILZOkkDjG8pkHxcA",
      "include_colab_link": true
    },
    "kernelspec": {
      "name": "python3",
      "display_name": "Python 3"
    },
    "language_info": {
      "name": "python"
    }
  },
  "cells": [
    {
      "cell_type": "markdown",
      "metadata": {
        "id": "view-in-github",
        "colab_type": "text"
      },
      "source": [
        "<a href=\"https://colab.research.google.com/github/takitakir/JOBS/blob/main/Geez_try%20.ipynb\" target=\"_parent\"><img src=\"https://colab.research.google.com/assets/colab-badge.svg\" alt=\"Open In Colab\"/></a>"
      ]
    },
    {
      "cell_type": "code",
      "execution_count": 14,
      "metadata": {
        "id": "SaESDSs3eqd6"
      },
      "outputs": [],
      "source": [
        "import requests\n",
        "from bs4 import BeautifulSoup"
      ]
    },
    {
      "cell_type": "code",
      "source": [
        "site_map = \"https://geezjobs.com/search-jobs?page=\""
      ],
      "metadata": {
        "id": "vkWYP780e4fT"
      },
      "execution_count": 2,
      "outputs": []
    },
    {
      "cell_type": "code",
      "source": [
        "full_site_map = []"
      ],
      "metadata": {
        "id": "__DLLeNge4jj"
      },
      "execution_count": 3,
      "outputs": []
    },
    {
      "cell_type": "code",
      "source": [
        "for page_num in range(1, 10):\n",
        "    url = site_map + str(page_num)\n",
        "    print(f\"Scraping page {page_num}: {url}\")\n",
        "    full_site_map.append(url)"
      ],
      "metadata": {
        "colab": {
          "base_uri": "https://localhost:8080/"
        },
        "id": "7ztOAUO3iRCd",
        "outputId": "985fa9fe-e981-4cd8-cc36-3b7beeec09d4"
      },
      "execution_count": 15,
      "outputs": [
        {
          "output_type": "stream",
          "name": "stdout",
          "text": [
            "Scraping page 1: https://geezjobs.com/search-jobs?page=1\n",
            "Scraping page 2: https://geezjobs.com/search-jobs?page=2\n",
            "Scraping page 3: https://geezjobs.com/search-jobs?page=3\n",
            "Scraping page 4: https://geezjobs.com/search-jobs?page=4\n",
            "Scraping page 5: https://geezjobs.com/search-jobs?page=5\n",
            "Scraping page 6: https://geezjobs.com/search-jobs?page=6\n",
            "Scraping page 7: https://geezjobs.com/search-jobs?page=7\n",
            "Scraping page 8: https://geezjobs.com/search-jobs?page=8\n",
            "Scraping page 9: https://geezjobs.com/search-jobs?page=9\n"
          ]
        }
      ]
    },
    {
      "cell_type": "code",
      "source": [
        "for site_url in full_site_map:\n",
        "    try:\n",
        "        response = requests.get(site_url)\n",
        "        print(f\"Successfully fetched: {site_url}\")\n",
        "    except requests.exceptions.RequestException as e:\n",
        "        print(f\"Error fetching {site_url}: {e}\")"
      ],
      "metadata": {
        "colab": {
          "base_uri": "https://localhost:8080/"
        },
        "id": "BzIZQeYfiRXO",
        "outputId": "849b8763-d8c0-46eb-faab-01b3052a89c2"
      },
      "execution_count": 13,
      "outputs": [
        {
          "output_type": "stream",
          "name": "stdout",
          "text": [
            "Successfully fetched: https://geezjobs.com/search-jobs?page=1\n",
            "Successfully fetched: https://geezjobs.com/search-jobs?page=2\n",
            "Successfully fetched: https://geezjobs.com/search-jobs?page=3\n",
            "Successfully fetched: https://geezjobs.com/search-jobs?page=4\n",
            "Successfully fetched: https://geezjobs.com/search-jobs?page=5\n",
            "Successfully fetched: https://geezjobs.com/search-jobs?page=6\n",
            "Successfully fetched: https://geezjobs.com/search-jobs?page=7\n",
            "Successfully fetched: https://geezjobs.com/search-jobs?page=8\n",
            "Successfully fetched: https://geezjobs.com/search-jobs?page=9\n"
          ]
        }
      ]
    },
    {
      "cell_type": "code",
      "source": [
        "page_1 = full_site_map[0]"
      ],
      "metadata": {
        "id": "NaBflIYpkgLY"
      },
      "execution_count": 19,
      "outputs": []
    },
    {
      "cell_type": "code",
      "source": [
        "response = requests.get(page_1)"
      ],
      "metadata": {
        "id": "LtKcF6YckZAW"
      },
      "execution_count": 22,
      "outputs": []
    },
    {
      "cell_type": "code",
      "source": [
        "response"
      ],
      "metadata": {
        "colab": {
          "base_uri": "https://localhost:8080/"
        },
        "id": "jF5F5iKQkS2N",
        "outputId": "08299f37-ac7d-4635-cb90-ea61aa14c3d6"
      },
      "execution_count": 23,
      "outputs": [
        {
          "output_type": "execute_result",
          "data": {
            "text/plain": [
              "<Response [200]>"
            ]
          },
          "metadata": {},
          "execution_count": 23
        }
      ]
    },
    {
      "cell_type": "code",
      "source": [
        "full_url = []"
      ],
      "metadata": {
        "id": "z_DaZYmakWtI"
      },
      "execution_count": 24,
      "outputs": []
    },
    {
      "cell_type": "code",
      "source": [
        "html = response.text"
      ],
      "metadata": {
        "id": "yzmabMQBnkqn"
      },
      "execution_count": 25,
      "outputs": []
    },
    {
      "cell_type": "code",
      "source": [
        "soup = BeautifulSoup(html, \"html.parser\")"
      ],
      "metadata": {
        "id": "DcUkZFtrnjKF"
      },
      "execution_count": 26,
      "outputs": []
    },
    {
      "cell_type": "code",
      "source": [
        "for li in soup.find_all(\"a\"):\n",
        "  url = li.get(\"href\")\n",
        "  if url and \"job-detail\" in url:\n",
        "     full_urls = \"https://geezjobs.com/\" + url\n",
        "     print(full_urls)\n",
        "     full_url.append(full_urls)"
      ],
      "metadata": {
        "colab": {
          "base_uri": "https://localhost:8080/"
        },
        "id": "UqS1QZ7lkWqe",
        "outputId": "93b2e797-5786-4b0a-cc5a-2f49f19b8408"
      },
      "execution_count": 28,
      "outputs": [
        {
          "output_type": "stream",
          "name": "stdout",
          "text": [
            "https://geezjobs.com//job-detail/senior-project-manager-infrastructure-unops\n",
            "https://geezjobs.com//job-detail/news-editor-ethiopian-business-review-ebr\n",
            "https://geezjobs.com//job-detail/supervisor-minaye-plc\n",
            "https://geezjobs.com//job-detail/visual-officer-addis-africa-international-convention-exhibition-center\n",
            "https://geezjobs.com//job-detail/electrical-engineer-addis-africa-international-convention-exhibition-center\n",
            "https://geezjobs.com//job-detail/marketing-intern-minaye-plc\n",
            "https://geezjobs.com//job-detail/graduate-trainee-rammis-bank\n",
            "https://geezjobs.com//job-detail/finance-officer-beteseb-charity-association\n",
            "https://geezjobs.com//job-detail/junior-react-developer-awura\n",
            "https://geezjobs.com//job-detail/fundraising-officer-beteseb-charity-association\n",
            "https://geezjobs.com//job-detail/it-developer-awura-computing-plc\n",
            "https://geezjobs.com//job-detail/senior-ui-ux-designer-awura-computing-plc\n",
            "https://geezjobs.com//job-detail/office-it-services-coordinator-sabawi-technology-plc\n",
            "https://geezjobs.com//job-detail/senior-technical-officer-african-union-commission-auc-1\n",
            "https://geezjobs.com//job-detail/digital-assistant-geezjobs-recruitment-department\n",
            "https://geezjobs.com//job-detail/hr-manager-intracom-ict-solutions\n",
            "https://geezjobs.com//job-detail/storekeeper-toptable-trading-plc\n",
            "https://geezjobs.com//job-detail/executive-secretary-transcend-international-school-2\n",
            "https://geezjobs.com//job-detail/human-resources-officer-icog-labs\n",
            "https://geezjobs.com//job-detail/customer-service-sales-assistant-yes-burger-pizza\n",
            "https://geezjobs.com//job-detail/supervisor-minaye-plc\n",
            "https://geezjobs.com//job-detail/sanitary-engineer-minaye-plc\n",
            "https://geezjobs.com//job-detail/marketing-intern-minaye-plc\n",
            "https://geezjobs.com//job-detail/accountant-and-administration-logiskills-transit-services\n",
            "https://geezjobs.com//job-detail/retail-manager-bda-business-and-agricultural-development-plc\n"
          ]
        }
      ]
    },
    {
      "cell_type": "code",
      "source": [
        "full_url"
      ],
      "metadata": {
        "colab": {
          "base_uri": "https://localhost:8080/"
        },
        "id": "ZxzFfiwVkWmD",
        "outputId": "609f5b31-1bf4-4335-b522-721f3b4346da"
      },
      "execution_count": 29,
      "outputs": [
        {
          "output_type": "execute_result",
          "data": {
            "text/plain": [
              "['https://geezjobs.com//job-detail/senior-project-manager-infrastructure-unops',\n",
              " 'https://geezjobs.com//job-detail/news-editor-ethiopian-business-review-ebr',\n",
              " 'https://geezjobs.com//job-detail/supervisor-minaye-plc',\n",
              " 'https://geezjobs.com//job-detail/visual-officer-addis-africa-international-convention-exhibition-center',\n",
              " 'https://geezjobs.com//job-detail/electrical-engineer-addis-africa-international-convention-exhibition-center',\n",
              " 'https://geezjobs.com//job-detail/marketing-intern-minaye-plc',\n",
              " 'https://geezjobs.com//job-detail/graduate-trainee-rammis-bank',\n",
              " 'https://geezjobs.com//job-detail/finance-officer-beteseb-charity-association',\n",
              " 'https://geezjobs.com//job-detail/junior-react-developer-awura',\n",
              " 'https://geezjobs.com//job-detail/fundraising-officer-beteseb-charity-association',\n",
              " 'https://geezjobs.com//job-detail/it-developer-awura-computing-plc',\n",
              " 'https://geezjobs.com//job-detail/senior-ui-ux-designer-awura-computing-plc',\n",
              " 'https://geezjobs.com//job-detail/office-it-services-coordinator-sabawi-technology-plc',\n",
              " 'https://geezjobs.com//job-detail/senior-technical-officer-african-union-commission-auc-1',\n",
              " 'https://geezjobs.com//job-detail/digital-assistant-geezjobs-recruitment-department',\n",
              " 'https://geezjobs.com//job-detail/hr-manager-intracom-ict-solutions',\n",
              " 'https://geezjobs.com//job-detail/storekeeper-toptable-trading-plc',\n",
              " 'https://geezjobs.com//job-detail/executive-secretary-transcend-international-school-2',\n",
              " 'https://geezjobs.com//job-detail/human-resources-officer-icog-labs',\n",
              " 'https://geezjobs.com//job-detail/customer-service-sales-assistant-yes-burger-pizza',\n",
              " 'https://geezjobs.com//job-detail/supervisor-minaye-plc',\n",
              " 'https://geezjobs.com//job-detail/sanitary-engineer-minaye-plc',\n",
              " 'https://geezjobs.com//job-detail/marketing-intern-minaye-plc',\n",
              " 'https://geezjobs.com//job-detail/accountant-and-administration-logiskills-transit-services',\n",
              " 'https://geezjobs.com//job-detail/retail-manager-bda-business-and-agricultural-development-plc']"
            ]
          },
          "metadata": {},
          "execution_count": 29
        }
      ]
    },
    {
      "cell_type": "code",
      "source": [
        "size = len(full_url)"
      ],
      "metadata": {
        "id": "ab3ge_E4n4J-"
      },
      "execution_count": 30,
      "outputs": []
    },
    {
      "cell_type": "code",
      "source": [
        "size"
      ],
      "metadata": {
        "colab": {
          "base_uri": "https://localhost:8080/"
        },
        "id": "hVA5TeZkkWhU",
        "outputId": "e5f1c83e-a5f8-4403-d39f-7b956911c04a"
      },
      "execution_count": 33,
      "outputs": [
        {
          "output_type": "execute_result",
          "data": {
            "text/plain": [
              "25"
            ]
          },
          "metadata": {},
          "execution_count": 33
        }
      ]
    },
    {
      "cell_type": "code",
      "source": [],
      "metadata": {
        "id": "ECMCBbsskWaR"
      },
      "execution_count": null,
      "outputs": []
    },
    {
      "cell_type": "code",
      "source": [],
      "metadata": {
        "id": "wvrFWGYwkWWF"
      },
      "execution_count": null,
      "outputs": []
    },
    {
      "cell_type": "code",
      "source": [],
      "metadata": {
        "id": "HfKUjgshkWRR"
      },
      "execution_count": null,
      "outputs": []
    }
  ]
}