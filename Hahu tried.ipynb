{
  "nbformat": 4,
  "nbformat_minor": 0,
  "metadata": {
    "colab": {
      "provenance": [],
      "authorship_tag": "ABX9TyNo46TDkBtHxL+eJUaAgf30",
      "include_colab_link": true
    },
    "kernelspec": {
      "name": "python3",
      "display_name": "Python 3"
    },
    "language_info": {
      "name": "python"
    }
  },
  "cells": [
    {
      "cell_type": "markdown",
      "metadata": {
        "id": "view-in-github",
        "colab_type": "text"
      },
      "source": [
        "<a href=\"https://colab.research.google.com/github/takitakir/JOBS/blob/main/Hahu%20tried.ipynb\" target=\"_parent\"><img src=\"https://colab.research.google.com/assets/colab-badge.svg\" alt=\"Open In Colab\"/></a>"
      ]
    },
    {
      "cell_type": "code",
      "execution_count": 1,
      "metadata": {
        "id": "vk-0M0YHbGTY"
      },
      "outputs": [],
      "source": [
        "import requests\n",
        "from bs4 import BeautifulSoup\n",
        "from datetime import datetime, timedelta\n",
        "import csv"
      ]
    },
    {
      "cell_type": "code",
      "source": [
        "site_map = \"https://www.hahu.jobs/jobs?page=\""
      ],
      "metadata": {
        "id": "pqWkspeQcAP6"
      },
      "execution_count": 2,
      "outputs": []
    },
    {
      "cell_type": "code",
      "source": [
        "response = requests.get(site_map)"
      ],
      "metadata": {
        "id": "XtA2c36-cAUH"
      },
      "execution_count": 3,
      "outputs": []
    },
    {
      "cell_type": "code",
      "source": [
        "response"
      ],
      "metadata": {
        "colab": {
          "base_uri": "https://localhost:8080/"
        },
        "id": "6A1MJvWYcAW8",
        "outputId": "7c8a819a-b7b1-49cb-e72b-2e3a0ff0aeb5"
      },
      "execution_count": 4,
      "outputs": [
        {
          "output_type": "execute_result",
          "data": {
            "text/plain": [
              "<Response [200]>"
            ]
          },
          "metadata": {},
          "execution_count": 4
        }
      ]
    },
    {
      "cell_type": "code",
      "source": [
        "full_site_map = []"
      ],
      "metadata": {
        "id": "sQr74gW_iNHt"
      },
      "execution_count": 6,
      "outputs": []
    },
    {
      "cell_type": "code",
      "source": [
        "for page_num in range(1, 10):\n",
        "    url = site_map + str(page_num)\n",
        "    print(f\"Scraping page {page_num}: {url}\")\n",
        "    full_site_map.append(url)\n",
        ""
      ],
      "metadata": {
        "colab": {
          "base_uri": "https://localhost:8080/"
        },
        "id": "bac9lwtncAaE",
        "outputId": "5371d10e-efa5-4b7b-8b72-38a64b2e548a"
      },
      "execution_count": 7,
      "outputs": [
        {
          "output_type": "stream",
          "name": "stdout",
          "text": [
            "Scraping page 1: https://www.hahu.jobs/jobs?page=1\n",
            "Scraping page 2: https://www.hahu.jobs/jobs?page=2\n",
            "Scraping page 3: https://www.hahu.jobs/jobs?page=3\n",
            "Scraping page 4: https://www.hahu.jobs/jobs?page=4\n",
            "Scraping page 5: https://www.hahu.jobs/jobs?page=5\n",
            "Scraping page 6: https://www.hahu.jobs/jobs?page=6\n",
            "Scraping page 7: https://www.hahu.jobs/jobs?page=7\n",
            "Scraping page 8: https://www.hahu.jobs/jobs?page=8\n",
            "Scraping page 9: https://www.hahu.jobs/jobs?page=9\n"
          ]
        }
      ]
    },
    {
      "cell_type": "code",
      "source": [
        "HahuA = full_site_map[0]"
      ],
      "metadata": {
        "id": "HFYgK-soiRGz"
      },
      "execution_count": 8,
      "outputs": []
    },
    {
      "cell_type": "code",
      "source": [
        "response = requests.get(HahuA)"
      ],
      "metadata": {
        "id": "skn8ZCu-iRLc"
      },
      "execution_count": 9,
      "outputs": []
    },
    {
      "cell_type": "code",
      "source": [
        "response"
      ],
      "metadata": {
        "colab": {
          "base_uri": "https://localhost:8080/"
        },
        "id": "r4qHzuhDiRP5",
        "outputId": "7771ef79-d215-4341-cedc-cc2e0a1bf5bf"
      },
      "execution_count": 10,
      "outputs": [
        {
          "output_type": "execute_result",
          "data": {
            "text/plain": [
              "<Response [200]>"
            ]
          },
          "metadata": {},
          "execution_count": 10
        }
      ]
    },
    {
      "cell_type": "code",
      "source": [
        "full_url = []"
      ],
      "metadata": {
        "id": "zzYa91coig4u"
      },
      "execution_count": 11,
      "outputs": []
    },
    {
      "cell_type": "code",
      "source": [
        "html = response.text"
      ],
      "metadata": {
        "id": "sSfBhpXbihAj"
      },
      "execution_count": 12,
      "outputs": []
    },
    {
      "cell_type": "code",
      "source": [
        "soup = BeautifulSoup(html, \"html.parser\")"
      ],
      "metadata": {
        "id": "x6U6TtABiRTI"
      },
      "execution_count": 15,
      "outputs": []
    },
    {
      "cell_type": "code",
      "source": [
        "base_url = \"https://www.hahu.jobs\""
      ],
      "metadata": {
        "id": "sAgPK7pKkwXY"
      },
      "execution_count": 21,
      "outputs": []
    },
    {
      "cell_type": "code",
      "source": [
        "for li in soup.find_all(\"a\"):\n",
        "    url = li.get(\"href\")\n",
        "    if url and url.startswith(\"/jobs/\") and \"app.hahu.jobs\" not in url:\n",
        "        full_link = base_url + url\n",
        "        print(full_link)\n",
        "\n",
        ""
      ],
      "metadata": {
        "colab": {
          "base_uri": "https://localhost:8080/"
        },
        "id": "1iUKilRgisRi",
        "outputId": "cea2cfb0-17ec-4bdd-fe85-49cb32383a5a"
      },
      "execution_count": 22,
      "outputs": [
        {
          "output_type": "stream",
          "name": "stdout",
          "text": [
            "https://www.hahu.jobs/jobs/ywtejhJPxg4Zjg8H\n",
            "https://www.hahu.jobs/jobs/XxfaZFsR56XE3Vlt\n",
            "https://www.hahu.jobs/jobs/RHYLLVpQwk1GgPeI\n",
            "https://www.hahu.jobs/jobs/F5msFhOfO65a41B\n",
            "https://www.hahu.jobs/jobs/X3cDN4YNMhdhauJ\n",
            "https://www.hahu.jobs/jobs/Snwylex6tp85XKH1\n",
            "https://www.hahu.jobs/jobs/UTdqCuZHSiI472v\n",
            "https://www.hahu.jobs/jobs/681b271af3771136637cb2c5\n",
            "https://www.hahu.jobs/jobs/681b4471e74ad762ebeea8f1\n",
            "https://www.hahu.jobs/jobs/nnP3ASXxmWQXbaq\n",
            "https://www.hahu.jobs/jobs/baMMnWelVOMSZH\n",
            "https://www.hahu.jobs/jobs/681c6c02bbbd80715a8ef5ef\n",
            "https://www.hahu.jobs/jobs/681ce7b09a32972d6bae11b0\n",
            "https://www.hahu.jobs/jobs/EDMuTiXbaggpj\n",
            "https://www.hahu.jobs/jobs/6824456bf7c304328c89dcad\n",
            "https://www.hahu.jobs/jobs/681db1132e29784e9b096942\n",
            "https://www.hahu.jobs/jobs/m9kzAYjxZNtDuW68\n",
            "https://www.hahu.jobs/jobs/681db23b4236e559774dc368\n",
            "https://www.hahu.jobs/jobs/YOUq4F7jfMRFZiB0\n",
            "https://www.hahu.jobs/jobs/6827051eecd74535079b8bcb\n",
            "https://www.hahu.jobs/jobs/q1hpQV6g5fwzWxWO\n",
            "https://www.hahu.jobs/jobs/681dfa0e06052f7732a165d1\n",
            "https://www.hahu.jobs/jobs/T1NIrYyUlgmPokXP\n",
            "https://www.hahu.jobs/jobs/681dab25afd14b7b5c8d3716\n",
            "https://www.hahu.jobs/jobs/VELj1IAt1CQ6nJ\n",
            "https://www.hahu.jobs/jobs/681dd6f4038d696180b370b3\n",
            "https://www.hahu.jobs/jobs/7QQHTe2ReoTA7as\n",
            "https://www.hahu.jobs/jobs/6824456b8234ac328bc2ab07\n",
            "https://www.hahu.jobs/jobs/c5oSwVPxM7zWeiE\n",
            "https://www.hahu.jobs/jobs/681db369b3bf0c6cdc1d7371\n",
            "https://www.hahu.jobs/jobs/QJQTNW9QTp6Lff\n",
            "https://www.hahu.jobs/jobs/6821a8ea48d9aa2773a58408\n",
            "https://www.hahu.jobs/jobs/nlHClTgcld5QOCkb\n",
            "https://www.hahu.jobs/jobs/hbPqmNg1GGQiO02X\n",
            "https://www.hahu.jobs/jobs/682324a796c9b72b578e94f0\n",
            "https://www.hahu.jobs/jobs/YD1kJOzvhCmh04Jt\n",
            "https://www.hahu.jobs/jobs/681ee9d5d3d3450afd242b41\n",
            "https://www.hahu.jobs/jobs/kjjwL7oC5Z8PiZV\n",
            "https://www.hahu.jobs/jobs/682343cfa6f74d17e665c70d\n",
            "https://www.hahu.jobs/jobs/wgwZkYFtFxKFDS3A\n",
            "https://www.hahu.jobs/jobs/PHF4GkJpBI9bx47S\n",
            "https://www.hahu.jobs/jobs/681f0389128f8632d17388d0\n",
            "https://www.hahu.jobs/jobs/68241fdf6f8850558db60638\n",
            "https://www.hahu.jobs/jobs/68126279f707f70a1c925f2c\n",
            "https://www.hahu.jobs/jobs/kP2cp04NWJqaO6\n",
            "https://www.hahu.jobs/jobs/OQwUEQZLRNkiKr\n",
            "https://www.hahu.jobs/jobs/0ZoCNtKsKfGQOydi\n",
            "https://www.hahu.jobs/jobs/TPC3xrRd0rSXxBw9\n",
            "https://www.hahu.jobs/jobs/HsrtzrNLsN0hQPo\n",
            "https://www.hahu.jobs/jobs/cLL0iw9AVGySWLt0\n",
            "https://www.hahu.jobs/jobs/RGpChxP5xCMwYTWZ\n",
            "https://www.hahu.jobs/jobs/PkSuT1FvZk4Mslnp\n",
            "https://www.hahu.jobs/jobs/ldpol7BmASJ5FuRm\n",
            "https://www.hahu.jobs/jobs/ulJ8jZSaCvTuC6\n"
          ]
        }
      ]
    },
    {
      "cell_type": "code",
      "source": [],
      "metadata": {
        "id": "WszxKssUisuh"
      },
      "execution_count": null,
      "outputs": []
    },
    {
      "cell_type": "code",
      "source": [],
      "metadata": {
        "id": "I7LWwnrNiRWD"
      },
      "execution_count": null,
      "outputs": []
    }
  ]
}