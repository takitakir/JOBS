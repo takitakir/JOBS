{
  "nbformat": 4,
  "nbformat_minor": 0,
  "metadata": {
    "colab": {
      "provenance": [],
      "authorship_tag": "ABX9TyP9gtubl3Cc7P/t4PB4O/B9",
      "include_colab_link": true
    },
    "kernelspec": {
      "name": "python3",
      "display_name": "Python 3"
    },
    "language_info": {
      "name": "python"
    }
  },
  "cells": [
    {
      "cell_type": "markdown",
      "metadata": {
        "id": "view-in-github",
        "colab_type": "text"
      },
      "source": [
        "<a href=\"https://colab.research.google.com/github/takitakir/JOBS/blob/main/Untitled9.ipynb\" target=\"_parent\"><img src=\"https://colab.research.google.com/assets/colab-badge.svg\" alt=\"Open In Colab\"/></a>"
      ]
    },
    {
      "cell_type": "code",
      "execution_count": null,
      "metadata": {
        "id": "Xu0XgcTmOqwg"
      },
      "outputs": [],
      "source": [
        "import requests\n"
      ]
    },
    {
      "cell_type": "code",
      "source": [
        "site_map = \"https://www.ethiopianreporterjobs.com\""
      ],
      "metadata": {
        "id": "Ii0vOd8POy35"
      },
      "execution_count": null,
      "outputs": []
    },
    {
      "cell_type": "code",
      "source": [
        "response = requests.get(site_map)"
      ],
      "metadata": {
        "id": "-iwbP4kIOzLC"
      },
      "execution_count": null,
      "outputs": []
    },
    {
      "cell_type": "code",
      "source": [
        "response"
      ],
      "metadata": {
        "colab": {
          "base_uri": "https://localhost:8080/"
        },
        "id": "azhKZqg1OzTu",
        "outputId": "ce76a95b-3333-4c53-b5ec-e2dec996c20b"
      },
      "execution_count": null,
      "outputs": [
        {
          "output_type": "execute_result",
          "data": {
            "text/plain": [
              "<Response [200]>"
            ]
          },
          "metadata": {},
          "execution_count": 8
        }
      ]
    },
    {
      "cell_type": "code",
      "source": [
        "from bs4 import BeautifulSoup"
      ],
      "metadata": {
        "id": "v1pOxlXBOzaC"
      },
      "execution_count": null,
      "outputs": []
    },
    {
      "cell_type": "code",
      "source": [
        "html = response.text"
      ],
      "metadata": {
        "id": "nsrkqkYvPcm2"
      },
      "execution_count": null,
      "outputs": []
    },
    {
      "cell_type": "code",
      "source": [
        "soup = BeautifulSoup(html, \"html.parser\")"
      ],
      "metadata": {
        "id": "i5h0u2VfPcq0"
      },
      "execution_count": null,
      "outputs": []
    },
    {
      "cell_type": "code",
      "source": [
        "site_map = []\n",
        "for li in soup.find_all(\"a\"):\n",
        "  url = li.get(\"href\")\n",
        "  if url and \"job-category\" in url:\n",
        "     print(url)\n",
        "     site_map.append(url)\n"
      ],
      "metadata": {
        "colab": {
          "base_uri": "https://localhost:8080/"
        },
        "id": "dp89bYmcPcyq",
        "outputId": "365ff314-a322-42bf-ce63-e73dbb9807e2"
      },
      "execution_count": null,
      "outputs": [
        {
          "output_type": "stream",
          "name": "stdout",
          "text": [
            "https://www.ethiopianreporterjobs.com/job-category/banking-jobs-in-ethiopia/\n",
            "https://www.ethiopianreporterjobs.com/job-category/construction-jobs-in-ethiopia/\n",
            "https://www.ethiopianreporterjobs.com/job-category/engineering-jobs-in-ethiopia/\n",
            "https://www.ethiopianreporterjobs.com/job-category/accounting-jobs-in-ethiopia/\n",
            "https://www.ethiopianreporterjobs.com/job-category/fresh-graduate-jobs/\n",
            "https://www.ethiopianreporterjobs.com/job-category/health-care-jobs-in-ethiopia/\n",
            "https://www.ethiopianreporterjobs.com/job-category/it-jobs-in-ethiopia/\n",
            "https://www.ethiopianreporterjobs.com/job-category/management-jobs-in-ethiopia/\n",
            "https://www.ethiopianreporterjobs.com/job-category/ngo-jobs-in-ethiopia/\n",
            "https://www.ethiopianreporterjobs.com/job-category/banking-jobs-in-ethiopia/\n",
            "https://www.ethiopianreporterjobs.com/job-category/business-administration-jobs-in-ethiopia/\n",
            "https://www.ethiopianreporterjobs.com/job-category/construction-jobs-in-ethiopia/\n",
            "https://www.ethiopianreporterjobs.com/job-category/engineering-jobs-in-ethiopia/\n",
            "https://www.ethiopianreporterjobs.com/job-category/accounting-jobs-in-ethiopia/\n",
            "https://www.ethiopianreporterjobs.com/job-category/fresh-graduate-jobs/\n",
            "https://www.ethiopianreporterjobs.com/job-category/hotel-jobs-in-ethiopia/\n",
            "https://www.ethiopianreporterjobs.com/job-category/it-jobs-in-ethiopia/\n",
            "https://www.ethiopianreporterjobs.com/job-category/legal-jobs/\n",
            "https://www.ethiopianreporterjobs.com/job-category/management-jobs-in-ethiopia/\n",
            "https://www.ethiopianreporterjobs.com/job-category/ngo-jobs-in-ethiopia/\n",
            "https://www.ethiopianreporterjobs.com/job-category/sales-and-marketing-jobs/\n",
            "https://www.ethiopianreporterjobs.com/job-category/banking-jobs-in-ethiopia/\n",
            "https://www.ethiopianreporterjobs.com/job-category/construction-jobs-in-ethiopia/\n",
            "https://www.ethiopianreporterjobs.com/job-category/engineering-jobs-in-ethiopia/\n",
            "https://www.ethiopianreporterjobs.com/job-category/accounting-jobs-in-ethiopia/\n",
            "https://www.ethiopianreporterjobs.com/job-category/fresh-graduate-jobs/\n",
            "https://www.ethiopianreporterjobs.com/job-category/health-care-jobs-in-ethiopia/\n",
            "https://www.ethiopianreporterjobs.com/job-category/hotel-jobs-in-ethiopia/\n",
            "https://www.ethiopianreporterjobs.com/job-category/it-jobs-in-ethiopia/\n",
            "https://www.ethiopianreporterjobs.com/job-category/legal-jobs/\n",
            "https://www.ethiopianreporterjobs.com/job-category/management-jobs-in-ethiopia/\n",
            "https://www.ethiopianreporterjobs.com/job-category/ngo-jobs-in-ethiopia/\n",
            "https://www.ethiopianreporterjobs.com/job-category/sales-and-marketing-jobs/\n"
          ]
        }
      ]
    },
    {
      "cell_type": "code",
      "source": [
        "site_map"
      ],
      "metadata": {
        "colab": {
          "base_uri": "https://localhost:8080/"
        },
        "id": "eIK-lbDpR8J3",
        "outputId": "19b91d71-2a9a-4b9e-9931-f7a2927c2ccc"
      },
      "execution_count": null,
      "outputs": [
        {
          "output_type": "execute_result",
          "data": {
            "text/plain": [
              "['https://www.ethiopianreporterjobs.com/job-category/banking-jobs-in-ethiopia/',\n",
              " 'https://www.ethiopianreporterjobs.com/job-category/construction-jobs-in-ethiopia/',\n",
              " 'https://www.ethiopianreporterjobs.com/job-category/engineering-jobs-in-ethiopia/',\n",
              " 'https://www.ethiopianreporterjobs.com/job-category/accounting-jobs-in-ethiopia/',\n",
              " 'https://www.ethiopianreporterjobs.com/job-category/fresh-graduate-jobs/',\n",
              " 'https://www.ethiopianreporterjobs.com/job-category/health-care-jobs-in-ethiopia/',\n",
              " 'https://www.ethiopianreporterjobs.com/job-category/it-jobs-in-ethiopia/',\n",
              " 'https://www.ethiopianreporterjobs.com/job-category/management-jobs-in-ethiopia/',\n",
              " 'https://www.ethiopianreporterjobs.com/job-category/ngo-jobs-in-ethiopia/',\n",
              " 'https://www.ethiopianreporterjobs.com/job-category/banking-jobs-in-ethiopia/',\n",
              " 'https://www.ethiopianreporterjobs.com/job-category/business-administration-jobs-in-ethiopia/',\n",
              " 'https://www.ethiopianreporterjobs.com/job-category/construction-jobs-in-ethiopia/',\n",
              " 'https://www.ethiopianreporterjobs.com/job-category/engineering-jobs-in-ethiopia/',\n",
              " 'https://www.ethiopianreporterjobs.com/job-category/accounting-jobs-in-ethiopia/',\n",
              " 'https://www.ethiopianreporterjobs.com/job-category/fresh-graduate-jobs/',\n",
              " 'https://www.ethiopianreporterjobs.com/job-category/hotel-jobs-in-ethiopia/',\n",
              " 'https://www.ethiopianreporterjobs.com/job-category/it-jobs-in-ethiopia/',\n",
              " 'https://www.ethiopianreporterjobs.com/job-category/legal-jobs/',\n",
              " 'https://www.ethiopianreporterjobs.com/job-category/management-jobs-in-ethiopia/',\n",
              " 'https://www.ethiopianreporterjobs.com/job-category/ngo-jobs-in-ethiopia/',\n",
              " 'https://www.ethiopianreporterjobs.com/job-category/sales-and-marketing-jobs/',\n",
              " 'https://www.ethiopianreporterjobs.com/job-category/banking-jobs-in-ethiopia/',\n",
              " 'https://www.ethiopianreporterjobs.com/job-category/construction-jobs-in-ethiopia/',\n",
              " 'https://www.ethiopianreporterjobs.com/job-category/engineering-jobs-in-ethiopia/',\n",
              " 'https://www.ethiopianreporterjobs.com/job-category/accounting-jobs-in-ethiopia/',\n",
              " 'https://www.ethiopianreporterjobs.com/job-category/fresh-graduate-jobs/',\n",
              " 'https://www.ethiopianreporterjobs.com/job-category/health-care-jobs-in-ethiopia/',\n",
              " 'https://www.ethiopianreporterjobs.com/job-category/hotel-jobs-in-ethiopia/',\n",
              " 'https://www.ethiopianreporterjobs.com/job-category/it-jobs-in-ethiopia/',\n",
              " 'https://www.ethiopianreporterjobs.com/job-category/legal-jobs/',\n",
              " 'https://www.ethiopianreporterjobs.com/job-category/management-jobs-in-ethiopia/',\n",
              " 'https://www.ethiopianreporterjobs.com/job-category/ngo-jobs-in-ethiopia/',\n",
              " 'https://www.ethiopianreporterjobs.com/job-category/sales-and-marketing-jobs/']"
            ]
          },
          "metadata": {},
          "execution_count": 30
        }
      ]
    },
    {
      "cell_type": "code",
      "source": [
        "banking = site_map[0]"
      ],
      "metadata": {
        "id": "KovFdXI1R8PT"
      },
      "execution_count": null,
      "outputs": []
    },
    {
      "cell_type": "code",
      "source": [
        "response = requests.get(banking)"
      ],
      "metadata": {
        "id": "NATJK5xWR8UD"
      },
      "execution_count": null,
      "outputs": []
    },
    {
      "cell_type": "code",
      "source": [
        "response"
      ],
      "metadata": {
        "colab": {
          "base_uri": "https://localhost:8080/"
        },
        "id": "6U_dTjzmR8X1",
        "outputId": "650a73a6-47be-4e42-9a71-25bbc138fea2"
      },
      "execution_count": null,
      "outputs": [
        {
          "output_type": "execute_result",
          "data": {
            "text/plain": [
              "<Response [403]>"
            ]
          },
          "metadata": {},
          "execution_count": 34
        }
      ]
    },
    {
      "cell_type": "code",
      "source": [],
      "metadata": {
        "id": "CrgTbIUyPc1j"
      },
      "execution_count": null,
      "outputs": []
    },
    {
      "cell_type": "code",
      "source": [],
      "metadata": {
        "id": "28MDhFydPc49"
      },
      "execution_count": null,
      "outputs": []
    },
    {
      "cell_type": "code",
      "source": [],
      "metadata": {
        "id": "Bulh_ZmwOzqU"
      },
      "execution_count": null,
      "outputs": []
    }
  ]
}