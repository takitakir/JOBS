{
  "nbformat": 4,
  "nbformat_minor": 0,
  "metadata": {
    "colab": {
      "provenance": [],
      "authorship_tag": "ABX9TyMlc71RE6CSqHx8nCf3KWRE",
      "include_colab_link": true
    },
    "kernelspec": {
      "name": "python3",
      "display_name": "Python 3"
    },
    "language_info": {
      "name": "python"
    }
  },
  "cells": [
    {
      "cell_type": "markdown",
      "metadata": {
        "id": "view-in-github",
        "colab_type": "text"
      },
      "source": [
        "<a href=\"https://colab.research.google.com/github/takitakir/JOBS/blob/main/GeezA.ipynb\" target=\"_parent\"><img src=\"https://colab.research.google.com/assets/colab-badge.svg\" alt=\"Open In Colab\"/></a>"
      ]
    },
    {
      "cell_type": "code",
      "execution_count": 1,
      "metadata": {
        "id": "9HZXMkNoUZwi"
      },
      "outputs": [],
      "source": [
        "import requests"
      ]
    },
    {
      "cell_type": "code",
      "source": [
        "site_map = \"https://geezjobs.com/jobs-in-ethiopia\""
      ],
      "metadata": {
        "id": "dq4uebAOUpX-"
      },
      "execution_count": 29,
      "outputs": []
    },
    {
      "cell_type": "code",
      "source": [
        "response = requests.get(site_map)"
      ],
      "metadata": {
        "id": "fqoxD31qUpbI"
      },
      "execution_count": 30,
      "outputs": []
    },
    {
      "cell_type": "code",
      "source": [
        "response"
      ],
      "metadata": {
        "colab": {
          "base_uri": "https://localhost:8080/"
        },
        "id": "Y3TX2n5pUpeB",
        "outputId": "d75eadf4-b0ee-4396-fa03-ab5eb53af76f"
      },
      "execution_count": 5,
      "outputs": [
        {
          "output_type": "execute_result",
          "data": {
            "text/plain": [
              "<Response [200]>"
            ]
          },
          "metadata": {},
          "execution_count": 5
        }
      ]
    },
    {
      "cell_type": "code",
      "source": [
        "from bs4 import BeautifulSoup"
      ],
      "metadata": {
        "id": "j2L_Ky59Uph6"
      },
      "execution_count": 7,
      "outputs": []
    },
    {
      "cell_type": "code",
      "source": [
        "html = response.text"
      ],
      "metadata": {
        "id": "GPVHRwuWUpj_"
      },
      "execution_count": 14,
      "outputs": []
    },
    {
      "cell_type": "code",
      "source": [
        "soup = BeautifulSoup(html, \"html.parser\")"
      ],
      "metadata": {
        "id": "7aC-agv6Upmc"
      },
      "execution_count": 9,
      "outputs": []
    },
    {
      "cell_type": "code",
      "source": [
        "site_maps = []\n",
        "for li in soup.find_all(\"a\"):\n",
        "  url = li.get(\"href\")\n",
        "  if url and \"job-detail\" in url:\n",
        "     full_url = \"https://geezjobs.com/\" + url  # Prepend the base URL\n",
        "     print(full_url)\n",
        "     site_maps.append(full_url)"
      ],
      "metadata": {
        "colab": {
          "base_uri": "https://localhost:8080/"
        },
        "id": "Y8OAuZJ3Uppe",
        "outputId": "72a99850-7b56-4ac6-91bc-d5cdf818323b"
      },
      "execution_count": 26,
      "outputs": [
        {
          "output_type": "stream",
          "name": "stdout",
          "text": [
            "https://geezjobs.com//job-detail/retail-manager-bda-business-and-agricultural-development-plc\n",
            "https://geezjobs.com//job-detail/supervisor-minaye-plc\n",
            "https://geezjobs.com//job-detail/accountant-and-administration-logiskills-transit-services\n",
            "https://geezjobs.com//job-detail/outlets-controller-belayab-food-production-plc\n",
            "https://geezjobs.com//job-detail/customer-service-sales-assistant-yes-burger-pizza\n",
            "https://geezjobs.com//job-detail/executive-assistant-geezjobs-recruitment-department-1\n",
            "https://geezjobs.com//job-detail/sales-and-marketing-geezjobs-recruitment-department\n",
            "https://geezjobs.com//job-detail/driver-ba-manufacturing-plc\n",
            "https://geezjobs.com//job-detail/junior-research-development-associate-geezjobs-recruitment-department\n",
            "https://geezjobs.com//job-detail/efda-liaison-and-regulatory-affairs-officer-geezjobs-recruitment-department\n",
            "https://geezjobs.com//job-detail/junior-accountant-joytech-plc\n",
            "https://geezjobs.com//job-detail/jr-driver-ethiopian-airlines\n",
            "https://geezjobs.com//job-detail/it-field-engineer-east-africa-bottling-share-company-coca-cola\n",
            "https://geezjobs.com//job-detail/brand-and-promotion-officer-coop-bank\n",
            "https://geezjobs.com//job-detail/senior-brand-and-promotion-officer-coop-bank\n",
            "https://geezjobs.com//job-detail/credit-analysts-coop-bank\n",
            "https://geezjobs.com//job-detail/credit-analyst-coop-bank\n",
            "https://geezjobs.com//job-detail/title-coop-bank\n",
            "https://geezjobs.com//job-detail/catering-helper-ethiopian-airlines\n",
            "https://geezjobs.com//job-detail/marketing-officer-enkoy-technologies\n",
            "https://geezjobs.com//job-detail/cashier-akotet-restaurant\n",
            "https://geezjobs.com//job-detail/executive-secretary-transcend-international-school-2\n",
            "https://geezjobs.com//job-detail/ambulance-driver-hawassa-bgi-ethiopia\n",
            "https://geezjobs.com//job-detail/sales-manager-geezjobs-recruitment-department-1\n",
            "https://geezjobs.com//job-detail/junior-research-development-associate-geezjobs-recruitment-department\n",
            "https://geezjobs.com//job-detail/executive-assistant-geezjobs-recruitment-department-1\n",
            "https://geezjobs.com//job-detail/financial-business-controller-bgi-ethiopia\n",
            "https://geezjobs.com//job-detail/storekeeper-toptable-trading-plc\n",
            "https://geezjobs.com//job-detail/senior-accountant-bda-business-and-agricultural-development-plc\n",
            "https://geezjobs.com//job-detail/senior-accountant-green-scene-energy-plc\n",
            "https://geezjobs.com//job-detail/manager-trade-marketing-sales-division-awash-bank\n",
            "https://geezjobs.com//job-detail/manager-graphic-design-documentation-division-awash-bank\n",
            "https://geezjobs.com//job-detail/manager-branding-promotion-division-awash-bank\n",
            "https://geezjobs.com//job-detail/manager-communication-event-management-division-awash-bank\n",
            "https://geezjobs.com//job-detail/brand-manager-digital-banking-awash-bank\n",
            "https://geezjobs.com//job-detail/brand-manager-retail-sme-banking-awash-bank\n",
            "https://geezjobs.com//job-detail/brand-manager-interest-free-banking-ifb-awash-bank\n",
            "https://geezjobs.com//job-detail/brand-manager-wholesale-banking-awash-bank\n",
            "https://geezjobs.com//job-detail/chief-editor-awash-bank\n",
            "https://geezjobs.com//job-detail/outlets-controller-belayab-food-production-plc\n"
          ]
        }
      ]
    },
    {
      "cell_type": "code",
      "source": [
        "site_maps"
      ],
      "metadata": {
        "colab": {
          "base_uri": "https://localhost:8080/"
        },
        "id": "y5c4yCppUpsg",
        "outputId": "40c5d805-a426-448f-eba0-f6971cabaf93"
      },
      "execution_count": 27,
      "outputs": [
        {
          "output_type": "execute_result",
          "data": {
            "text/plain": [
              "['https://geezjobs.com//job-detail/retail-manager-bda-business-and-agricultural-development-plc',\n",
              " 'https://geezjobs.com//job-detail/supervisor-minaye-plc',\n",
              " 'https://geezjobs.com//job-detail/accountant-and-administration-logiskills-transit-services',\n",
              " 'https://geezjobs.com//job-detail/outlets-controller-belayab-food-production-plc',\n",
              " 'https://geezjobs.com//job-detail/customer-service-sales-assistant-yes-burger-pizza',\n",
              " 'https://geezjobs.com//job-detail/executive-assistant-geezjobs-recruitment-department-1',\n",
              " 'https://geezjobs.com//job-detail/sales-and-marketing-geezjobs-recruitment-department',\n",
              " 'https://geezjobs.com//job-detail/driver-ba-manufacturing-plc',\n",
              " 'https://geezjobs.com//job-detail/junior-research-development-associate-geezjobs-recruitment-department',\n",
              " 'https://geezjobs.com//job-detail/efda-liaison-and-regulatory-affairs-officer-geezjobs-recruitment-department',\n",
              " 'https://geezjobs.com//job-detail/junior-accountant-joytech-plc',\n",
              " 'https://geezjobs.com//job-detail/jr-driver-ethiopian-airlines',\n",
              " 'https://geezjobs.com//job-detail/it-field-engineer-east-africa-bottling-share-company-coca-cola',\n",
              " 'https://geezjobs.com//job-detail/brand-and-promotion-officer-coop-bank',\n",
              " 'https://geezjobs.com//job-detail/senior-brand-and-promotion-officer-coop-bank',\n",
              " 'https://geezjobs.com//job-detail/credit-analysts-coop-bank',\n",
              " 'https://geezjobs.com//job-detail/credit-analyst-coop-bank',\n",
              " 'https://geezjobs.com//job-detail/title-coop-bank',\n",
              " 'https://geezjobs.com//job-detail/catering-helper-ethiopian-airlines',\n",
              " 'https://geezjobs.com//job-detail/marketing-officer-enkoy-technologies',\n",
              " 'https://geezjobs.com//job-detail/cashier-akotet-restaurant',\n",
              " 'https://geezjobs.com//job-detail/executive-secretary-transcend-international-school-2',\n",
              " 'https://geezjobs.com//job-detail/ambulance-driver-hawassa-bgi-ethiopia',\n",
              " 'https://geezjobs.com//job-detail/sales-manager-geezjobs-recruitment-department-1',\n",
              " 'https://geezjobs.com//job-detail/junior-research-development-associate-geezjobs-recruitment-department',\n",
              " 'https://geezjobs.com//job-detail/executive-assistant-geezjobs-recruitment-department-1',\n",
              " 'https://geezjobs.com//job-detail/financial-business-controller-bgi-ethiopia',\n",
              " 'https://geezjobs.com//job-detail/storekeeper-toptable-trading-plc',\n",
              " 'https://geezjobs.com//job-detail/senior-accountant-bda-business-and-agricultural-development-plc',\n",
              " 'https://geezjobs.com//job-detail/senior-accountant-green-scene-energy-plc',\n",
              " 'https://geezjobs.com//job-detail/manager-trade-marketing-sales-division-awash-bank',\n",
              " 'https://geezjobs.com//job-detail/manager-graphic-design-documentation-division-awash-bank',\n",
              " 'https://geezjobs.com//job-detail/manager-branding-promotion-division-awash-bank',\n",
              " 'https://geezjobs.com//job-detail/manager-communication-event-management-division-awash-bank',\n",
              " 'https://geezjobs.com//job-detail/brand-manager-digital-banking-awash-bank',\n",
              " 'https://geezjobs.com//job-detail/brand-manager-retail-sme-banking-awash-bank',\n",
              " 'https://geezjobs.com//job-detail/brand-manager-interest-free-banking-ifb-awash-bank',\n",
              " 'https://geezjobs.com//job-detail/brand-manager-wholesale-banking-awash-bank',\n",
              " 'https://geezjobs.com//job-detail/chief-editor-awash-bank',\n",
              " 'https://geezjobs.com//job-detail/outlets-controller-belayab-food-production-plc']"
            ]
          },
          "metadata": {},
          "execution_count": 27
        }
      ]
    },
    {
      "cell_type": "code",
      "source": [
        "job1 = site_maps[0]"
      ],
      "metadata": {
        "id": "MGjcZPbNUpvm"
      },
      "execution_count": 28,
      "outputs": []
    },
    {
      "cell_type": "code",
      "source": [
        "response = requests.get(job1)"
      ],
      "metadata": {
        "id": "dC9vx4_oXgs7"
      },
      "execution_count": 25,
      "outputs": []
    },
    {
      "cell_type": "code",
      "source": [
        "num_jobs = len(site_maps)"
      ],
      "metadata": {
        "id": "jnEE8EByXgxZ"
      },
      "execution_count": 37,
      "outputs": []
    },
    {
      "cell_type": "code",
      "source": [
        "num_jobs"
      ],
      "metadata": {
        "colab": {
          "base_uri": "https://localhost:8080/"
        },
        "id": "cFsk47eGYI0K",
        "outputId": "32278f7a-3765-4ee3-b130-a1d15b821681"
      },
      "execution_count": 38,
      "outputs": [
        {
          "output_type": "execute_result",
          "data": {
            "text/plain": [
              "40"
            ]
          },
          "metadata": {},
          "execution_count": 38
        }
      ]
    },
    {
      "cell_type": "code",
      "source": [],
      "metadata": {
        "id": "yVqWGmPbYI3z"
      },
      "execution_count": null,
      "outputs": []
    },
    {
      "cell_type": "code",
      "source": [],
      "metadata": {
        "id": "pYqggUlvYI7X"
      },
      "execution_count": null,
      "outputs": []
    },
    {
      "cell_type": "code",
      "source": [],
      "metadata": {
        "id": "8Fw3vleQYJBu"
      },
      "execution_count": null,
      "outputs": []
    },
    {
      "cell_type": "code",
      "source": [],
      "metadata": {
        "id": "n1o1KGluYBNm"
      },
      "execution_count": null,
      "outputs": []
    },
    {
      "cell_type": "code",
      "source": [],
      "metadata": {
        "id": "oVbh70ohXg1h"
      },
      "execution_count": null,
      "outputs": []
    }
  ]
}