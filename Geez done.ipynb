{
  "nbformat": 4,
  "nbformat_minor": 0,
  "metadata": {
    "colab": {
      "provenance": [],
      "authorship_tag": "ABX9TyNyfNhq0iIpGr5beInvyOsS",
      "include_colab_link": true
    },
    "kernelspec": {
      "name": "python3",
      "display_name": "Python 3"
    },
    "language_info": {
      "name": "python"
    }
  },
  "cells": [
    {
      "cell_type": "markdown",
      "metadata": {
        "id": "view-in-github",
        "colab_type": "text"
      },
      "source": [
        "<a href=\"https://colab.research.google.com/github/takitakir/JOBS/blob/main/Geez%20done.ipynb\" target=\"_parent\"><img src=\"https://colab.research.google.com/assets/colab-badge.svg\" alt=\"Open In Colab\"/></a>"
      ]
    },
    {
      "cell_type": "code",
      "execution_count": 9,
      "metadata": {
        "id": "7FzC2JIhslnQ"
      },
      "outputs": [],
      "source": [
        "import requests\n",
        "from bs4 import BeautifulSoup\n",
        "from datetime import datetime, timedelta\n",
        "import csv"
      ]
    },
    {
      "cell_type": "code",
      "source": [
        "site_map = \"https://geezjobs.com/jobs-in-ethiopia\""
      ],
      "metadata": {
        "id": "jeS95B6Ms75L"
      },
      "execution_count": 2,
      "outputs": []
    },
    {
      "cell_type": "code",
      "source": [
        "base_url = \"https://geezjobs.com\""
      ],
      "metadata": {
        "id": "H7dmWBprvItt"
      },
      "execution_count": 8,
      "outputs": []
    },
    {
      "cell_type": "code",
      "source": [
        "jobs_list_url = \"https://geezjobs.com/jobs-in-ethiopia\""
      ],
      "metadata": {
        "id": "zgGP8D7fvhaD"
      },
      "execution_count": 7,
      "outputs": []
    },
    {
      "cell_type": "code",
      "source": [
        "response = requests.get(site_map)"
      ],
      "metadata": {
        "id": "G1eZMKLQs78e"
      },
      "execution_count": 3,
      "outputs": []
    },
    {
      "cell_type": "code",
      "source": [
        "html = response.text"
      ],
      "metadata": {
        "id": "uW0-tfBHs8BK"
      },
      "execution_count": 4,
      "outputs": []
    },
    {
      "cell_type": "code",
      "source": [
        "soup = BeautifulSoup(html, \"html.parser\")"
      ],
      "metadata": {
        "id": "cp36M9IJtEY-"
      },
      "execution_count": 5,
      "outputs": []
    },
    {
      "cell_type": "code",
      "source": [
        "def scrape_job_listings():\n",
        "    response = requests.get(jobs_list_url)\n",
        "    soup = BeautifulSoup(response.text, \"html.parser\")\n",
        "\n",
        "    jobs = []\n",
        "\n",
        "    # Find all job list items\n",
        "    job_items = soup.find_all('li')\n",
        "\n",
        "    for item in job_items:\n",
        "        try:\n",
        "            # Skip if not a job item (doesn't contain the expected structure)\n",
        "            if not item.find('a', class_='color-green'):\n",
        "                continue\n",
        "\n",
        "            # Extract job title and URL\n",
        "            title_tag = item.find('a', class_='color-green')\n",
        "            job_title = title_tag.text.strip()\n",
        "            relative_url = title_tag['href']\n",
        "            job_url = base_url + relative_url if relative_url.startswith('/') else relative_url\n",
        "\n",
        "            # Extract company name\n",
        "            company_tag = item.find('a', href=lambda x: x and '/company/' in x)\n",
        "            company = company_tag.text.strip() if company_tag else \"N/A\"\n",
        "\n",
        "            # Extract location\n",
        "            location_tag = item.find('span', string=lambda x: x and '<i class=\"fa fa-map-marker\"></i>' in str(x))\n",
        "            location = location_tag.text.strip() if location_tag else \"N/A\"\n",
        "\n",
        "            # Extract closing date\n",
        "            closing_tag = item.find('code')\n",
        "            closing_text = closing_tag.text.strip() if closing_tag else \"N/A\"\n",
        "            closing_date = parse_closing_date(closing_text)\n",
        "\n",
        "            jobs.append({\n",
        "                'title': job_title,\n",
        "                'company': company,\n",
        "                'location': location,\n",
        "                'closing_date': closing_date,\n",
        "                'closing_days_text': closing_text,\n",
        "                'url': job_url\n",
        "            })\n",
        "\n",
        "        except Exception as e:\n",
        "            print(f\"Error processing a job listing: {e}\")\n",
        "            continue\n",
        "\n",
        "    return jobs"
      ],
      "metadata": {
        "id": "OZ_hJR7FtEdC"
      },
      "execution_count": 10,
      "outputs": []
    },
    {
      "cell_type": "code",
      "source": [
        "def parse_closing_date(days_text):\n",
        "    \"\"\"Convert 'X days left' to actual deadline date\"\"\"\n",
        "    try:\n",
        "        if 'day' in days_text.lower():\n",
        "            days = int(days_text.split()[0])\n",
        "            return (datetime.now() + timedelta(days=days)).strftime('%Y-%m-%d')\n",
        "        return days_text\n",
        "    except:\n",
        "        return days_text"
      ],
      "metadata": {
        "id": "uFmQW1XRtEgG"
      },
      "execution_count": 11,
      "outputs": []
    },
    {
      "cell_type": "code",
      "source": [
        "def save_to_csv(jobs, filename='geezjobs_jobs.csv'):\n",
        "    with open(filename, 'w', newline='', encoding='utf-8') as f:\n",
        "        fieldnames = ['title', 'company', 'location', 'closing_date', 'closing_days_text', 'url']\n",
        "        writer = csv.DictWriter(f, fieldnames=fieldnames)\n",
        "        writer.writeheader()\n",
        "        writer.writerows(jobs)"
      ],
      "metadata": {
        "id": "sMwoYsh1s8DA"
      },
      "execution_count": 12,
      "outputs": []
    },
    {
      "cell_type": "code",
      "source": [
        "if __name__ == '__main__':\n",
        "    print(\"Scraping job listings from GeezJobs...\")\n",
        "    jobs = scrape_job_listings()\n",
        "\n",
        "    save_to_csv(jobs)\n",
        "    print(f\"Successfully scraped {len(jobs)} jobs. Data saved to geezjobs_jobs.csv\")"
      ],
      "metadata": {
        "colab": {
          "base_uri": "https://localhost:8080/"
        },
        "id": "9oezQggpv-Rb",
        "outputId": "3371873a-5398-4bc4-fcc8-438ca0591f10"
      },
      "execution_count": 13,
      "outputs": [
        {
          "output_type": "stream",
          "name": "stdout",
          "text": [
            "Scraping job listings from GeezJobs...\n",
            "Successfully scraped 30 jobs. Data saved to geezjobs_jobs.csv\n"
          ]
        }
      ]
    },
    {
      "cell_type": "code",
      "source": [
        "jobs"
      ],
      "metadata": {
        "colab": {
          "base_uri": "https://localhost:8080/"
        },
        "id": "5vWK37Ggs8FO",
        "outputId": "9c388ed9-fc26-4f6d-80f8-f784e8bfd300"
      },
      "execution_count": 14,
      "outputs": [
        {
          "output_type": "execute_result",
          "data": {
            "text/plain": [
              "[{'title': 'Executive Sous Chef',\n",
              "  'company': 'Ethiopian Airlines',\n",
              "  'location': 'N/A',\n",
              "  'closing_date': '2025-05-22',\n",
              "  'closing_days_text': '7 days left',\n",
              "  'url': 'https://geezjobs.com/job-detail/executive-sous-chef-ethiopian-airlines-2'},\n",
              " {'title': 'Junior Accountant',\n",
              "  'company': 'Joytech PLC',\n",
              "  'location': 'N/A',\n",
              "  'closing_date': '2025-05-29',\n",
              "  'closing_days_text': '14 days left',\n",
              "  'url': 'https://geezjobs.com/job-detail/junior-accountant-joytech-plc'},\n",
              " {'title': 'Jr. Driver',\n",
              "  'company': 'Ethiopian Airlines',\n",
              "  'location': 'N/A',\n",
              "  'closing_date': '2025-05-22',\n",
              "  'closing_days_text': '7 days left',\n",
              "  'url': 'https://geezjobs.com/job-detail/jr-driver-ethiopian-airlines'},\n",
              " {'title': 'IT Field Engineer',\n",
              "  'company': 'East Africa Bottling Share Company - Coca Cola',\n",
              "  'location': 'N/A',\n",
              "  'closing_date': '2025-05-26',\n",
              "  'closing_days_text': '11 days left',\n",
              "  'url': 'https://geezjobs.com/job-detail/it-field-engineer-east-africa-bottling-share-company-coca-cola'},\n",
              " {'title': 'Brand And Promotion Officer',\n",
              "  'company': 'Cooperative Bank of Oromia',\n",
              "  'location': 'N/A',\n",
              "  'closing_date': '2025-05-20',\n",
              "  'closing_days_text': '5 days left',\n",
              "  'url': 'https://geezjobs.com/job-detail/brand-and-promotion-officer-coop-bank'},\n",
              " {'title': 'Senior Brand And Promotion Officer',\n",
              "  'company': 'Cooperative Bank of Oromia',\n",
              "  'location': 'N/A',\n",
              "  'closing_date': '2025-05-20',\n",
              "  'closing_days_text': '5 days left',\n",
              "  'url': 'https://geezjobs.com/job-detail/senior-brand-and-promotion-officer-coop-bank'},\n",
              " {'title': 'Credit Analysts',\n",
              "  'company': 'Cooperative Bank of Oromia',\n",
              "  'location': 'N/A',\n",
              "  'closing_date': '2025-05-20',\n",
              "  'closing_days_text': '5 days left',\n",
              "  'url': 'https://geezjobs.com/job-detail/credit-analysts-coop-bank'},\n",
              " {'title': 'Credit Analyst',\n",
              "  'company': 'Cooperative Bank of Oromia',\n",
              "  'location': 'N/A',\n",
              "  'closing_date': '2025-05-20',\n",
              "  'closing_days_text': '5 days left',\n",
              "  'url': 'https://geezjobs.com/job-detail/credit-analyst-coop-bank'},\n",
              " {'title': 'Senior Legal Compliance Officer',\n",
              "  'company': 'Cooperative Bank of Oromia',\n",
              "  'location': 'N/A',\n",
              "  'closing_date': '2025-05-20',\n",
              "  'closing_days_text': '5 days left',\n",
              "  'url': 'https://geezjobs.com/job-detail/title-coop-bank'},\n",
              " {'title': 'CATERING HELPER',\n",
              "  'company': 'Ethiopian Airlines',\n",
              "  'location': 'N/A',\n",
              "  'closing_date': '2025-05-22',\n",
              "  'closing_days_text': '7 days left',\n",
              "  'url': 'https://geezjobs.com/job-detail/catering-helper-ethiopian-airlines'},\n",
              " {'title': 'Marketing Officer',\n",
              "  'company': 'Enkoy Technologies',\n",
              "  'location': 'N/A',\n",
              "  'closing_date': '2025-05-23',\n",
              "  'closing_days_text': '8 days left',\n",
              "  'url': 'https://geezjobs.com/job-detail/marketing-officer-enkoy-technologies'},\n",
              " {'title': 'Cashier',\n",
              "  'company': 'Akotet Restaurant',\n",
              "  'location': 'N/A',\n",
              "  'closing_date': '2025-05-21',\n",
              "  'closing_days_text': '6 days left',\n",
              "  'url': 'https://geezjobs.com/job-detail/cashier-akotet-restaurant'},\n",
              " {'title': 'Executive Secretary',\n",
              "  'company': 'Transcend International School',\n",
              "  'location': 'N/A',\n",
              "  'closing_date': '2025-05-29',\n",
              "  'closing_days_text': '14 days left',\n",
              "  'url': 'https://geezjobs.com/job-detail/executive-secretary-transcend-international-school-2'},\n",
              " {'title': 'Ambulance Driver (Hawassa)',\n",
              "  'company': 'BGI Ethiopia',\n",
              "  'location': 'N/A',\n",
              "  'closing_date': '2025-05-19',\n",
              "  'closing_days_text': '4 days left',\n",
              "  'url': 'https://geezjobs.com/job-detail/ambulance-driver-hawassa-bgi-ethiopia'},\n",
              " {'title': 'Sales Manager',\n",
              "  'company': 'GeezJobs (Recruitment Department)',\n",
              "  'location': 'N/A',\n",
              "  'closing_date': '2025-05-29',\n",
              "  'closing_days_text': '14 days left',\n",
              "  'url': 'https://geezjobs.com/job-detail/sales-manager-geezjobs-recruitment-department-1'},\n",
              " {'title': 'Junior Research & Development Associate',\n",
              "  'company': 'GeezJobs (Recruitment Department)',\n",
              "  'location': 'N/A',\n",
              "  'closing_date': '2025-05-29',\n",
              "  'closing_days_text': '14 days left',\n",
              "  'url': 'https://geezjobs.com/job-detail/junior-research-development-associate-geezjobs-recruitment-department'},\n",
              " {'title': 'Executive Assistant',\n",
              "  'company': 'GeezJobs (Recruitment Department)',\n",
              "  'location': 'N/A',\n",
              "  'closing_date': '2025-05-29',\n",
              "  'closing_days_text': '14 days left',\n",
              "  'url': 'https://geezjobs.com/job-detail/executive-assistant-geezjobs-recruitment-department-1'},\n",
              " {'title': 'Financial Business Controller',\n",
              "  'company': 'BGI Ethiopia',\n",
              "  'location': 'N/A',\n",
              "  'closing_date': '2025-05-26',\n",
              "  'closing_days_text': '11 days left',\n",
              "  'url': 'https://geezjobs.com/job-detail/financial-business-controller-bgi-ethiopia'},\n",
              " {'title': 'Storekeeper',\n",
              "  'company': 'TOPTABLE TRADING PLC',\n",
              "  'location': 'N/A',\n",
              "  'closing_date': '2025-05-28',\n",
              "  'closing_days_text': '13 days left',\n",
              "  'url': 'https://geezjobs.com/job-detail/storekeeper-toptable-trading-plc'},\n",
              " {'title': 'Senior Accountant',\n",
              "  'company': 'BDA Business and Agricultural Development PLC',\n",
              "  'location': 'N/A',\n",
              "  'closing_date': '2025-05-21',\n",
              "  'closing_days_text': '6 days left',\n",
              "  'url': 'https://geezjobs.com/job-detail/senior-accountant-bda-business-and-agricultural-development-plc'},\n",
              " {'title': 'Senior Accountant',\n",
              "  'company': 'Green Scene Energy PLC',\n",
              "  'location': 'N/A',\n",
              "  'closing_date': '2025-05-19',\n",
              "  'closing_days_text': '4 days left',\n",
              "  'url': 'https://geezjobs.com/job-detail/senior-accountant-green-scene-energy-plc'},\n",
              " {'title': 'Manager – Trade Marketing & Sales Division',\n",
              "  'company': 'Awash Bank',\n",
              "  'location': 'N/A',\n",
              "  'closing_date': '2025-05-21',\n",
              "  'closing_days_text': '6 days left',\n",
              "  'url': 'https://geezjobs.com/job-detail/manager-trade-marketing-sales-division-awash-bank'},\n",
              " {'title': 'Manager – Graphic Design & Documentation Division',\n",
              "  'company': 'Awash Bank',\n",
              "  'location': 'N/A',\n",
              "  'closing_date': '2025-05-21',\n",
              "  'closing_days_text': '6 days left',\n",
              "  'url': 'https://geezjobs.com/job-detail/manager-graphic-design-documentation-division-awash-bank'},\n",
              " {'title': 'Manager – Branding & Promotion Division',\n",
              "  'company': 'Awash Bank',\n",
              "  'location': 'N/A',\n",
              "  'closing_date': '2025-05-21',\n",
              "  'closing_days_text': '6 days left',\n",
              "  'url': 'https://geezjobs.com/job-detail/manager-branding-promotion-division-awash-bank'},\n",
              " {'title': 'Manager – Communication & Event Management Division',\n",
              "  'company': 'Awash Bank',\n",
              "  'location': 'N/A',\n",
              "  'closing_date': '2025-05-21',\n",
              "  'closing_days_text': '6 days left',\n",
              "  'url': 'https://geezjobs.com/job-detail/manager-communication-event-management-division-awash-bank'},\n",
              " {'title': 'Brand Manager – Digital Banking',\n",
              "  'company': 'Awash Bank',\n",
              "  'location': 'N/A',\n",
              "  'closing_date': '2025-05-21',\n",
              "  'closing_days_text': '6 days left',\n",
              "  'url': 'https://geezjobs.com/job-detail/brand-manager-digital-banking-awash-bank'},\n",
              " {'title': 'Brand Manager – Retail & SME Banking',\n",
              "  'company': 'Awash Bank',\n",
              "  'location': 'N/A',\n",
              "  'closing_date': '2025-05-21',\n",
              "  'closing_days_text': '6 days left',\n",
              "  'url': 'https://geezjobs.com/job-detail/brand-manager-retail-sme-banking-awash-bank'},\n",
              " {'title': 'Brand Manager – Interest Free Banking (IFB)',\n",
              "  'company': 'Awash Bank',\n",
              "  'location': 'N/A',\n",
              "  'closing_date': '2025-05-21',\n",
              "  'closing_days_text': '6 days left',\n",
              "  'url': 'https://geezjobs.com/job-detail/brand-manager-interest-free-banking-ifb-awash-bank'},\n",
              " {'title': 'Brand Manager – Wholesale Banking',\n",
              "  'company': 'Awash Bank',\n",
              "  'location': 'N/A',\n",
              "  'closing_date': '2025-05-21',\n",
              "  'closing_days_text': '6 days left',\n",
              "  'url': 'https://geezjobs.com/job-detail/brand-manager-wholesale-banking-awash-bank'},\n",
              " {'title': 'Chief Editor',\n",
              "  'company': 'Awash Bank',\n",
              "  'location': 'N/A',\n",
              "  'closing_date': '2025-05-21',\n",
              "  'closing_days_text': '6 days left',\n",
              "  'url': 'https://geezjobs.com/job-detail/chief-editor-awash-bank'}]"
            ]
          },
          "metadata": {},
          "execution_count": 14
        }
      ]
    }
  ]
}